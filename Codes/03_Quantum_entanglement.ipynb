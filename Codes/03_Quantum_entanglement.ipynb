{
 "cells": [
  {
   "cell_type": "markdown",
   "id": "daedd260",
   "metadata": {},
   "source": [
    "# Quantum gates for two qubits\n",
    "#"
   ]
  },
  {
   "cell_type": "code",
   "execution_count": 80,
   "id": "a72e750f",
   "metadata": {},
   "outputs": [],
   "source": [
    "from qiskit import QuantumCircuit\n",
    "from qiskit.quantum_info import Statevector\n",
    "from qiskit.visualization.array import array_to_latex\n",
    "from IPython.display import Markdown\n",
    "import numpy as np"
   ]
  },
  {
   "cell_type": "markdown",
   "id": "9f134289",
   "metadata": {},
   "source": [
    "## <font color=DarkGreen> Create 2 quantum channels for 2 qubits</font>"
   ]
  },
  {
   "cell_type": "code",
   "execution_count": 81,
   "id": "6c3cbc4a",
   "metadata": {
    "scrolled": true
   },
   "outputs": [
    {
     "name": "stdout",
     "output_type": "stream",
     "text": [
      "Statevector([1.+0.j, 0.+0.j, 0.+0.j, 0.+0.j],\n",
      "            dims=(2, 2))\n"
     ]
    },
    {
     "data": {
      "image/png": "[encoded data removed]",
      "text/plain": [
       "<Figure size 161.878x200.667 with 1 Axes>"
      ]
     },
     "metadata": {},
     "output_type": "display_data"
    },
    {
     "data": {
      "text/markdown": [
       "Two qubit state ="
      ],
      "text/plain": [
       "<IPython.core.display.Markdown object>"
      ]
     },
     "metadata": {},
     "output_type": "display_data"
    },
    {
     "data": {
      "text/latex": [
       "$$ |00\\rangle$$"
      ],
      "text/plain": [
       "<IPython.core.display.Latex object>"
      ]
     },
     "metadata": {},
     "output_type": "display_data"
    },
    {
     "data": {
      "text/latex": [
       "$$\n",
       "(\\text{Two qubit state})^T = \n",
       "\\begin{bmatrix}\n",
       "1 & 0 & 0 & 0  \\\\\n",
       " \\end{bmatrix}\n",
       "$$"
      ],
      "text/plain": [
       "<IPython.core.display.Latex object>"
      ]
     },
     "execution_count": 81,
     "metadata": {},
     "output_type": "execute_result"
    }
   ],
   "source": [
    "qc2 = QuantumCircuit(2)\n",
    "ket0 = Statevector(qc2)\n",
    "print(ket0)\n",
    "display(qc2.draw('mpl'))\n",
    "display(Markdown(r'Two qubit state ='),ket0.draw('latex'))\n",
    "array_to_latex(ket0, prefix=\"(\\\\text{Two qubit state})^T = \")"
   ]
  },
  {
   "cell_type": "markdown",
   "id": "0ee780cb",
   "metadata": {},
   "source": [
    "## <font color=DarkGreen>Make first qubit to state $|1\\rangle$ by operating an X-gate</font>\n",
    "\n",
    "### N.B.: In Qiskit, qubits are registered from top to bottom on the circuit channels. While writing the direct product ket, Qiskit uses Little Endian convention, in which qubits are ordered from right to left. Thus the n-th qubit is written on the extreme left side and the first qubit sits on the exteme right). "
   ]
  },
  {
   "cell_type": "code",
   "execution_count": 82,
   "id": "0a9313e2",
   "metadata": {},
   "outputs": [
    {
     "name": "stdout",
     "output_type": "stream",
     "text": [
      "Statevector([0.+0.j, 1.+0.j, 0.+0.j, 0.+0.j],\n",
      "            dims=(2, 2))\n"
     ]
    },
    {
     "data": {
      "image/png": "[encoded data removed]",
      "text/plain": [
       "<Figure size 203.683x200.667 with 1 Axes>"
      ]
     },
     "metadata": {},
     "output_type": "display_data"
    },
    {
     "data": {
      "text/markdown": [
       "Two qubit state ="
      ],
      "text/plain": [
       "<IPython.core.display.Markdown object>"
      ]
     },
     "metadata": {},
     "output_type": "display_data"
    },
    {
     "data": {
      "text/latex": [
       "$$ |01\\rangle$$"
      ],
      "text/plain": [
       "<IPython.core.display.Latex object>"
      ]
     },
     "metadata": {},
     "output_type": "display_data"
    },
    {
     "data": {
      "text/latex": [
       "$$\n",
       "(\\text{Two qubit state})^T = \n",
       "\\begin{bmatrix}\n",
       "0 & 1 & 0 & 0  \\\\\n",
       " \\end{bmatrix}\n",
       "$$"
      ],
      "text/plain": [
       "<IPython.core.display.Latex object>"
      ]
     },
     "execution_count": 82,
     "metadata": {},
     "output_type": "execute_result"
    }
   ],
   "source": [
    "qc2.x(0)\n",
    "ket1 = Statevector(qc2)\n",
    "print(ket1)\n",
    "display(qc2.draw('mpl'))\n",
    "display(Markdown(r'Two qubit state ='),ket1.draw('latex'))\n",
    "array_to_latex(ket1, prefix=\"(\\\\text{Two qubit state})^T = \")"
   ]
  },
  {
   "cell_type": "markdown",
   "id": "4f2cbb47",
   "metadata": {},
   "source": [
    "### Check if the above state is the tensor (Kronecker) product: $|0\\rangle \\otimes |1\\rangle = [1\\quad0]^T \\otimes [0\\quad1]^T $"
   ]
  },
  {
   "cell_type": "code",
   "execution_count": 97,
   "id": "47bc6571",
   "metadata": {},
   "outputs": [
    {
     "data": {
      "text/plain": [
       "array([0, 1, 0, 0])"
      ]
     },
     "execution_count": 97,
     "metadata": {},
     "output_type": "execute_result"
    }
   ],
   "source": [
    "q1 = np.array([1,0])\n",
    "q0 = np.array([0,1])\n",
    "np.kron(q0,q1)"
   ]
  },
  {
   "cell_type": "markdown",
   "id": "333bebc7",
   "metadata": {},
   "source": [
    "## <font color=DarkGreen>Now operate Controlled NOT: CX(0,1)</font>"
   ]
  },
  {
   "cell_type": "code",
   "execution_count": 84,
   "id": "8bec004f",
   "metadata": {},
   "outputs": [
    {
     "data": {
      "image/png": "[encoded data removed]",
      "text/plain": [
       "<Figure size 287.294x200.667 with 1 Axes>"
      ]
     },
     "execution_count": 84,
     "metadata": {},
     "output_type": "execute_result"
    }
   ],
   "source": [
    "qc2.cx(0,1)\n",
    "qc2.draw('mpl')"
   ]
  },
  {
   "cell_type": "code",
   "execution_count": 85,
   "id": "a398925a",
   "metadata": {},
   "outputs": [
    {
     "name": "stdout",
     "output_type": "stream",
     "text": [
      "Statevector([0.+0.j, 0.+0.j, 0.+0.j, 1.+0.j],\n",
      "            dims=(2, 2))\n"
     ]
    },
    {
     "data": {
      "text/markdown": [
       "State after CX(0,1) ="
      ],
      "text/plain": [
       "<IPython.core.display.Markdown object>"
      ]
     },
     "metadata": {},
     "output_type": "display_data"
    },
    {
     "data": {
      "text/latex": [
       "$$ |11\\rangle$$"
      ],
      "text/plain": [
       "<IPython.core.display.Latex object>"
      ]
     },
     "metadata": {},
     "output_type": "display_data"
    },
    {
     "data": {
      "text/latex": [
       "$$\n",
       "(\\text{State after CX(0,1)})^T = \n",
       "\\begin{bmatrix}\n",
       "0 & 0 & 0 & 1  \\\\\n",
       " \\end{bmatrix}\n",
       "$$"
      ],
      "text/plain": [
       "<IPython.core.display.Latex object>"
      ]
     },
     "execution_count": 85,
     "metadata": {},
     "output_type": "execute_result"
    }
   ],
   "source": [
    "ket2 = Statevector(qc2)\n",
    "print(ket2)\n",
    "display(Markdown(r'State after CX(0,1) ='),ket2.draw('latex'))\n",
    "array_to_latex(ket2, prefix=\"(\\\\text{State after CX(0,1)})^T = \")"
   ]
  },
  {
   "cell_type": "markdown",
   "id": "623a7f6b",
   "metadata": {},
   "source": [
    "### Check if the above state is the tensor (Kronecker) product: $|1\\rangle \\otimes |1\\rangle = [0\\quad1]^T \\otimes [0\\quad1]^T $"
   ]
  },
  {
   "cell_type": "code",
   "execution_count": 86,
   "id": "919b8a90",
   "metadata": {},
   "outputs": [
    {
     "data": {
      "text/plain": [
       "array([0, 0, 0, 1])"
      ]
     },
     "execution_count": 86,
     "metadata": {},
     "output_type": "execute_result"
    }
   ],
   "source": [
    "q0 = np.array([0,1])\n",
    "q1 = np.array([0,1])\n",
    "np.kron(q0,q1)"
   ]
  },
  {
   "cell_type": "markdown",
   "id": "405d42ac",
   "metadata": {},
   "source": [
    "## <font color=DarkGreen>Now operate Controlled Z: CZ(0,1)</font>"
   ]
  },
  {
   "cell_type": "code",
   "execution_count": 87,
   "id": "0ec5f0e5",
   "metadata": {},
   "outputs": [
    {
     "data": {
      "image/png": "[encoded data removed]",
      "text/plain": [
       "<Figure size 370.906x200.667 with 1 Axes>"
      ]
     },
     "execution_count": 87,
     "metadata": {},
     "output_type": "execute_result"
    }
   ],
   "source": [
    "qc2.cz(0,1)\n",
    "qc2.draw('mpl')"
   ]
  },
  {
   "cell_type": "code",
   "execution_count": 88,
   "id": "12450ba8",
   "metadata": {},
   "outputs": [
    {
     "name": "stdout",
     "output_type": "stream",
     "text": [
      "Statevector([ 0.+0.j,  0.+0.j,  0.+0.j, -1.+0.j],\n",
      "            dims=(2, 2))\n"
     ]
    },
    {
     "data": {
      "text/markdown": [
       "State after CZ(0,1) ="
      ],
      "text/plain": [
       "<IPython.core.display.Markdown object>"
      ]
     },
     "metadata": {},
     "output_type": "display_data"
    },
    {
     "data": {
      "text/latex": [
       "$$- |11\\rangle$$"
      ],
      "text/plain": [
       "<IPython.core.display.Latex object>"
      ]
     },
     "metadata": {},
     "output_type": "display_data"
    },
    {
     "data": {
      "text/latex": [
       "$$\n",
       "(\\text{State after CZ(0,1)})^T = \n",
       "\\begin{bmatrix}\n",
       "0 & 0 & 0 & -1  \\\\\n",
       " \\end{bmatrix}\n",
       "$$"
      ],
      "text/plain": [
       "<IPython.core.display.Latex object>"
      ]
     },
     "execution_count": 88,
     "metadata": {},
     "output_type": "execute_result"
    }
   ],
   "source": [
    "ket3 = Statevector(qc2)\n",
    "print(ket3)\n",
    "display(Markdown(r'State after CZ(0,1) ='),ket3.draw('latex'))\n",
    "array_to_latex(ket3, prefix=\"(\\\\text{State after CZ(0,1)})^T = \")"
   ]
  },
  {
   "cell_type": "markdown",
   "id": "92803cd6",
   "metadata": {},
   "source": [
    "### Check if ket2 and ket3 are equivalent up to a global phase factor"
   ]
  },
  {
   "cell_type": "code",
   "execution_count": 89,
   "id": "aa15dd2c",
   "metadata": {},
   "outputs": [
    {
     "data": {
      "text/plain": [
       "True"
      ]
     },
     "execution_count": 89,
     "metadata": {},
     "output_type": "execute_result"
    }
   ],
   "source": [
    "ket3.equiv(ket2)"
   ]
  },
  {
   "cell_type": "markdown",
   "id": "a17d7621",
   "metadata": {},
   "source": [
    "## <font color=DarkGreen>Now create $|10\\rangle$ state</font>"
   ]
  },
  {
   "cell_type": "code",
   "execution_count": 90,
   "id": "d48faf02",
   "metadata": {},
   "outputs": [
    {
     "data": {
      "image/png": "[encoded data removed]",
      "text/plain": [
       "<Figure size 203.683x200.667 with 1 Axes>"
      ]
     },
     "execution_count": 90,
     "metadata": {},
     "output_type": "execute_result"
    }
   ],
   "source": [
    "qc2new = QuantumCircuit(2)\n",
    "qc2new.x(1)\n",
    "qc2new.draw('mpl')"
   ]
  },
  {
   "cell_type": "code",
   "execution_count": 91,
   "id": "31f17713",
   "metadata": {},
   "outputs": [
    {
     "name": "stdout",
     "output_type": "stream",
     "text": [
      "Statevector([0.+0.j, 0.+0.j, 1.+0.j, 0.+0.j],\n",
      "            dims=(2, 2))\n"
     ]
    },
    {
     "data": {
      "text/markdown": [
       "2-qubit state ="
      ],
      "text/plain": [
       "<IPython.core.display.Markdown object>"
      ]
     },
     "metadata": {},
     "output_type": "display_data"
    },
    {
     "data": {
      "text/latex": [
       "$$ |10\\rangle$$"
      ],
      "text/plain": [
       "<IPython.core.display.Latex object>"
      ]
     },
     "metadata": {},
     "output_type": "display_data"
    },
    {
     "data": {
      "text/latex": [
       "$$\n",
       "(\\text{2-qubit state})^T = \n",
       "\\begin{bmatrix}\n",
       "0 & 0 & 1 & 0  \\\\\n",
       " \\end{bmatrix}\n",
       "$$"
      ],
      "text/plain": [
       "<IPython.core.display.Latex object>"
      ]
     },
     "execution_count": 91,
     "metadata": {},
     "output_type": "execute_result"
    }
   ],
   "source": [
    "ket4 = Statevector(qc2new)\n",
    "print(ket4)\n",
    "display(Markdown(r'2-qubit state ='),ket4.draw('latex'))\n",
    "array_to_latex(ket4, prefix=\"(\\\\text{2-qubit state})^T = \")"
   ]
  },
  {
   "cell_type": "markdown",
   "id": "c0d074c0",
   "metadata": {},
   "source": [
    "## <font color=DarkGreen>Operate a Swap gate</font>"
   ]
  },
  {
   "cell_type": "code",
   "execution_count": 92,
   "id": "9a4ccfaf",
   "metadata": {},
   "outputs": [
    {
     "data": {
      "image/png": "[encoded data removed]",
      "text/plain": [
       "<Figure size 287.294x200.667 with 1 Axes>"
      ]
     },
     "execution_count": 92,
     "metadata": {},
     "output_type": "execute_result"
    }
   ],
   "source": [
    "qc2new.swap(0,1)\n",
    "qc2new.draw('mpl')"
   ]
  },
  {
   "cell_type": "code",
   "execution_count": 93,
   "id": "04b4f0c0",
   "metadata": {},
   "outputs": [
    {
     "name": "stdout",
     "output_type": "stream",
     "text": [
      "Statevector([0.+0.j, 1.+0.j, 0.+0.j, 0.+0.j],\n",
      "            dims=(2, 2))\n"
     ]
    },
    {
     "data": {
      "text/markdown": [
       "2-qubit state ="
      ],
      "text/plain": [
       "<IPython.core.display.Markdown object>"
      ]
     },
     "metadata": {},
     "output_type": "display_data"
    },
    {
     "data": {
      "text/latex": [
       "$$ |01\\rangle$$"
      ],
      "text/plain": [
       "<IPython.core.display.Latex object>"
      ]
     },
     "metadata": {},
     "output_type": "display_data"
    },
    {
     "data": {
      "text/latex": [
       "$$\n",
       "(\\text{2-qubit state})^T = \n",
       "\\begin{bmatrix}\n",
       "0 & 1 & 0 & 0  \\\\\n",
       " \\end{bmatrix}\n",
       "$$"
      ],
      "text/plain": [
       "<IPython.core.display.Latex object>"
      ]
     },
     "execution_count": 93,
     "metadata": {},
     "output_type": "execute_result"
    }
   ],
   "source": [
    "ket5 = Statevector(qc2new)\n",
    "print(ket5)\n",
    "display(Markdown(r'2-qubit state ='),ket5.draw('latex'))\n",
    "array_to_latex(ket5, prefix=\"(\\\\text{2-qubit state})^T = \")"
   ]
  },
  {
   "cell_type": "markdown",
   "id": "7d8be2d0",
   "metadata": {},
   "source": [
    "## <font color=DarkGreen>Operate a Swap gate once again (with different ordering)</font>"
   ]
  },
  {
   "cell_type": "code",
   "execution_count": 94,
   "id": "d4c7fe05",
   "metadata": {},
   "outputs": [
    {
     "data": {
      "image/png": "[encoded data removed]",
      "text/plain": [
       "<Figure size 370.906x200.667 with 1 Axes>"
      ]
     },
     "execution_count": 94,
     "metadata": {},
     "output_type": "execute_result"
    }
   ],
   "source": [
    "qc2new.swap(1,0)\n",
    "qc2new.draw('mpl')"
   ]
  },
  {
   "cell_type": "code",
   "execution_count": 95,
   "id": "319e9229",
   "metadata": {},
   "outputs": [
    {
     "name": "stdout",
     "output_type": "stream",
     "text": [
      "Statevector([0.+0.j, 0.+0.j, 1.+0.j, 0.+0.j],\n",
      "            dims=(2, 2))\n"
     ]
    },
    {
     "data": {
      "text/markdown": [
       "2-qubit state ="
      ],
      "text/plain": [
       "<IPython.core.display.Markdown object>"
      ]
     },
     "metadata": {},
     "output_type": "display_data"
    },
    {
     "data": {
      "text/latex": [
       "$$ |10\\rangle$$"
      ],
      "text/plain": [
       "<IPython.core.display.Latex object>"
      ]
     },
     "metadata": {},
     "output_type": "display_data"
    },
    {
     "data": {
      "text/latex": [
       "$$\n",
       "(\\text{2-qubit state})^T = \n",
       "\\begin{bmatrix}\n",
       "0 & 0 & 1 & 0  \\\\\n",
       " \\end{bmatrix}\n",
       "$$"
      ],
      "text/plain": [
       "<IPython.core.display.Latex object>"
      ]
     },
     "execution_count": 95,
     "metadata": {},
     "output_type": "execute_result"
    }
   ],
   "source": [
    "ket5 = Statevector(qc2new)\n",
    "print(ket5)\n",
    "display(Markdown(r'2-qubit state ='),ket5.draw('latex'))\n",
    "array_to_latex(ket5, prefix=\"(\\\\text{2-qubit state})^T = \")"
   ]
  },
  {
   "cell_type": "markdown",
   "id": "6cbe9003",
   "metadata": {},
   "source": [
    "#### Comment: We get back the previous state. `swap(0,1)` and `swap(1,0)` are basically the same. "
   ]
  },
  {
   "cell_type": "code",
   "execution_count": null,
   "id": "dbf31b1c",
   "metadata": {},
   "outputs": [],
   "source": []
  }
 ],
 "metadata": {
  "kernelspec": {
   "display_name": "Python 3 (ipykernel)",
   "language": "python",
   "name": "python3"
  },
  "language_info": {
   "codemirror_mode": {
    "name": "ipython",
    "version": 3
   },
   "file_extension": ".py",
   "mimetype": "text/x-python",
   "name": "python",
   "nbconvert_exporter": "python",
   "pygments_lexer": "ipython3",
   "version": "3.11.9"
  }
 },
 "nbformat": 4,
 "nbformat_minor": 5
}
