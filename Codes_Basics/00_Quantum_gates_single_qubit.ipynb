{
 "cells": [
  {
   "cell_type": "markdown",
   "id": "d9b2f2ab",
   "metadata": {},
   "source": [
    "# Basic Single Qubit Quantum Gates "
   ]
  },
  {
   "cell_type": "code",
   "execution_count": 9,
   "id": "f47ef5e9",
   "metadata": {},
   "outputs": [],
   "source": [
    "from qiskit import QuantumCircuit\n",
    "from qiskit.quantum_info import Statevector\n",
    "from qiskit.visualization.array import array_to_latex"
   ]
  },
  {
   "cell_type": "markdown",
   "id": "e4e2d2b8",
   "metadata": {},
   "source": [
    "## <font color='blue'>Create a quantum channel for single qubit (default qubit: $|0\\rangle$)<blue>"
   ]
  },
  {
   "cell_type": "code",
   "execution_count": 10,
   "id": "12148387",
   "metadata": {
    "scrolled": false
   },
   "outputs": [
    {
     "name": "stdout",
     "output_type": "stream",
     "text": [
      "Statevector([1.+0.j, 0.+0.j],\n",
      "            dims=(2,))\n"
     ]
    },
    {
     "data": {
      "text/latex": [
       "$$\n",
       "|0\\rangle^\\dagger = \n",
       "\\begin{bmatrix}\n",
       "1 & 0  \\\\\n",
       " \\end{bmatrix}\n",
       "$$"
      ],
      "text/plain": [
       "<IPython.core.display.Latex object>"
      ]
     },
     "execution_count": 10,
     "metadata": {},
     "output_type": "execute_result"
    }
   ],
   "source": [
    "qc = QuantumCircuit(1)\n",
    "ket = Statevector(qc)\n",
    "\n",
    "print(ket) # Default state is |0> = [ 1 ]                   \n",
    "           #                        [ 0 ]\n",
    "ket.draw('latex')    \n",
    "array_to_latex(ket, prefix=\"|0\\\\rangle^\\dagger = \")"
   ]
  },
  {
   "cell_type": "markdown",
   "id": "203eb653",
   "metadata": {},
   "source": [
    "## <font color='blue'>X-gate (NOT operator): $\\hat{X} = \\begin{bmatrix} 0 & 1\\\\ 1 & 0\\end{bmatrix}$</font>"
   ]
  },
  {
   "cell_type": "code",
   "execution_count": 11,
   "id": "dc965d44",
   "metadata": {},
   "outputs": [
    {
     "data": {
      "image/png": "[encoded data removed]",
      "text/plain": [
       "<Figure size 185.453x117.056 with 1 Axes>"
      ]
     },
     "execution_count": 11,
     "metadata": {},
     "output_type": "execute_result"
    }
   ],
   "source": [
    "# Create an X-gate operation on the qubit at channel 0\n",
    "qc.x(0)\n",
    "qc.draw('mpl') # Visualize circuit with matplotlib"
   ]
  },
  {
   "cell_type": "code",
   "execution_count": 12,
   "id": "0dfb57e2",
   "metadata": {},
   "outputs": [
    {
     "name": "stdout",
     "output_type": "stream",
     "text": [
      "Statevector([0.+0.j, 1.+0.j],\n",
      "            dims=(2,))\n"
     ]
    },
    {
     "data": {
      "text/latex": [
       "$$\n",
       "|1\\rangle^\\dagger = \n",
       "\\begin{bmatrix}\n",
       "0 & 1  \\\\\n",
       " \\end{bmatrix}\n",
       "$$"
      ],
      "text/plain": [
       "<IPython.core.display.Latex object>"
      ]
     },
     "execution_count": 12,
     "metadata": {},
     "output_type": "execute_result"
    }
   ],
   "source": [
    "ket = Statevector(qc)\n",
    "print(ket) # Default state is |0> = [ 1 ]                   #                        [ 0 ]\n",
    "ket.draw('latex')    \n",
    "array_to_latex(ket, prefix=\"|1\\\\rangle^\\dagger = \")"
   ]
  },
  {
   "cell_type": "markdown",
   "id": "3f2b7b22",
   "metadata": {},
   "source": [
    "## <font color='blue'>Z-gate (PHASE operator): $\\hat{Z} = \\begin{bmatrix} 1 & 0\\\\ 0 & -1\\end{bmatrix}$</font>"
   ]
  },
  {
   "cell_type": "code",
   "execution_count": 13,
   "id": "00218109",
   "metadata": {},
   "outputs": [
    {
     "data": {
      "image/png": "[encoded data removed]",
      "text/plain": [
       "<Figure size 269.064x117.056 with 1 Axes>"
      ]
     },
     "execution_count": 13,
     "metadata": {},
     "output_type": "execute_result"
    }
   ],
   "source": [
    "qc.z(0)\n",
    "qc.draw('mpl')"
   ]
  },
  {
   "cell_type": "code",
   "execution_count": 14,
   "id": "322a07a1",
   "metadata": {},
   "outputs": [
    {
     "name": "stdout",
     "output_type": "stream",
     "text": [
      "Statevector([ 0.+0.j, -1.+0.j],\n",
      "            dims=(2,))\n"
     ]
    },
    {
     "data": {
      "text/latex": [
       "$$\n",
       "(\\hat{Z} |1\\rangle)^\\dagger = \n",
       "\\begin{bmatrix}\n",
       "0 & -1  \\\\\n",
       " \\end{bmatrix}\n",
       "$$"
      ],
      "text/plain": [
       "<IPython.core.display.Latex object>"
      ]
     },
     "execution_count": 14,
     "metadata": {},
     "output_type": "execute_result"
    }
   ],
   "source": [
    "ket = Statevector(qc)\n",
    "print(ket) # Default state is |0> = [ 1 ]                   #                        [ 0 ]\n",
    "ket.draw('latex')    \n",
    "array_to_latex(ket, prefix=\"(\\hat{Z} |1\\\\rangle)^\\dagger = \")"
   ]
  },
  {
   "cell_type": "markdown",
   "id": "813b2db3",
   "metadata": {},
   "source": [
    "## <font color='blue'> H-gate (SUPERPOSITION operator): $\\hat{H} =\\frac{1}{\\sqrt{2}} \\begin{bmatrix} 1 & 1\\\\ 1 & -1\\end{bmatrix}$</font>"
   ]
  },
  {
   "cell_type": "code",
   "execution_count": 15,
   "id": "a978de9b",
   "metadata": {},
   "outputs": [
    {
     "data": {
      "image/png": "[encoded data removed]",
      "text/plain": [
       "<Figure size 352.675x117.056 with 1 Axes>"
      ]
     },
     "metadata": {},
     "output_type": "display_data"
    },
    {
     "name": "stdout",
     "output_type": "stream",
     "text": [
      "Statevector([-0.70710678+0.j,  0.70710678+0.j],\n",
      "            dims=(2,))\n"
     ]
    },
    {
     "data": {
      "text/markdown": [
       "$\\hat{H}(- |1\\rangle) =$"
      ],
      "text/plain": [
       "<IPython.core.display.Markdown object>"
      ]
     },
     "metadata": {},
     "output_type": "display_data"
    },
    {
     "data": {
      "text/latex": [
       "$$- \\frac{\\sqrt{2}}{2} |0\\rangle+\\frac{\\sqrt{2}}{2} |1\\rangle$$"
      ],
      "text/plain": [
       "<IPython.core.display.Latex object>"
      ]
     },
     "metadata": {},
     "output_type": "display_data"
    },
    {
     "data": {
      "text/latex": [
       "$$\n",
       "(\\text{Superposition state})^T = \n",
       "\\begin{bmatrix}\n",
       "- \\frac{\\sqrt{2}}{2} & \\frac{\\sqrt{2}}{2}  \\\\\n",
       " \\end{bmatrix}\n",
       "$$"
      ],
      "text/plain": [
       "<IPython.core.display.Latex object>"
      ]
     },
     "execution_count": 15,
     "metadata": {},
     "output_type": "execute_result"
    }
   ],
   "source": [
    "from IPython.display import Markdown\n",
    "qc.h(0)\n",
    "display(qc.draw('mpl'))\n",
    "ket = Statevector(qc)\n",
    "print(ket)\n",
    "display(Markdown(r'$\\hat{H}(- |1\\rangle) =$'),ket.draw('latex'))\n",
    "array_to_latex(ket, prefix=\"(\\\\text{Superposition state})^T = \")"
   ]
  }
 ],
 "metadata": {
  "kernelspec": {
   "display_name": "Python 3 (ipykernel)",
   "language": "python",
   "name": "python3"
  },
  "language_info": {
   "codemirror_mode": {
    "name": "ipython",
    "version": 3
   },
   "file_extension": ".py",
   "mimetype": "text/x-python",
   "name": "python",
   "nbconvert_exporter": "python",
   "pygments_lexer": "ipython3",
   "version": "3.11.9"
  }
 },
 "nbformat": 4,
 "nbformat_minor": 5
}
