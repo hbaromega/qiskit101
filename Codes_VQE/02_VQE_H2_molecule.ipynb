{
 "cells": [
  {
   "cell_type": "markdown",
   "id": "d14a6cb5",
   "metadata": {},
   "source": [
    "# <font color=indigo> VQE for $H_2$ molecule using `Qiskit Nature`</font>"
   ]
  },
  {
   "cell_type": "code",
   "execution_count": 12,
   "id": "43c4c2ce",
   "metadata": {},
   "outputs": [],
   "source": [
    "from qiskit_algorithms import VQE, NumPyMinimumEigensolver\n",
    "from qiskit_aer.primitives import Estimator\n",
    "from qiskit_nature.second_q.drivers import PySCFDriver\n",
    "from qiskit_nature.second_q.formats.molecule_info import MoleculeInfo\n",
    "from qiskit_nature.second_q.mappers import ParityMapper\n",
    "from qiskit_nature.second_q.algorithms import GroundStateEigensolver\n",
    "from qiskit_nature.second_q.circuit.library import UCCSD, HartreeFock\n",
    "from qiskit_nature.units import DistanceUnit\n",
    "from qiskit_algorithms.optimizers import COBYLA\n",
    "import numpy as np\n",
    "import matplotlib.pyplot as plt"
   ]
  },
  {
   "cell_type": "code",
   "execution_count": 13,
   "id": "ec29ebd9",
   "metadata": {
    "scrolled": false
   },
   "outputs": [
    {
     "name": "stderr",
     "output_type": "stream",
     "text": [
      "/var/folders/3m/pc44t30x60gd3bj_3f670_yw0000gn/T/ipykernel_11918/2970428373.py:52: DeprecationWarning: Estimator has been deprecated as of Aer 0.15, please use EstimatorV2 instead.\n",
      "  exact_energy, vqe_energy = calculate_energies(distance)\n",
      "/var/folders/3m/pc44t30x60gd3bj_3f670_yw0000gn/T/ipykernel_11918/2970428373.py:52: DeprecationWarning: Option approximation=False is deprecated as of qiskit-aer 0.13. It will be removed no earlier than 3 months after the release date. Instead, use BackendEstimator from qiskit.primitives.\n",
      "  exact_energy, vqe_energy = calculate_energies(distance)\n"
     ]
    },
    {
     "name": "stdout",
     "output_type": "stream",
     "text": [
      "Bond Distance: 0.50 Å | Exact: -1.0552 | VQE: -1.0485\n"
     ]
    },
    {
     "name": "stderr",
     "output_type": "stream",
     "text": [
      "/var/folders/3m/pc44t30x60gd3bj_3f670_yw0000gn/T/ipykernel_11918/2970428373.py:52: DeprecationWarning: Estimator has been deprecated as of Aer 0.15, please use EstimatorV2 instead.\n",
      "  exact_energy, vqe_energy = calculate_energies(distance)\n",
      "/var/folders/3m/pc44t30x60gd3bj_3f670_yw0000gn/T/ipykernel_11918/2970428373.py:52: DeprecationWarning: Option approximation=False is deprecated as of qiskit-aer 0.13. It will be removed no earlier than 3 months after the release date. Instead, use BackendEstimator from qiskit.primitives.\n",
      "  exact_energy, vqe_energy = calculate_energies(distance)\n"
     ]
    },
    {
     "name": "stdout",
     "output_type": "stream",
     "text": [
      "Bond Distance: 0.64 Å | Exact: -1.1285 | VQE: -0.8047\n"
     ]
    },
    {
     "name": "stderr",
     "output_type": "stream",
     "text": [
      "/var/folders/3m/pc44t30x60gd3bj_3f670_yw0000gn/T/ipykernel_11918/2970428373.py:52: DeprecationWarning: Estimator has been deprecated as of Aer 0.15, please use EstimatorV2 instead.\n",
      "  exact_energy, vqe_energy = calculate_energies(distance)\n",
      "/var/folders/3m/pc44t30x60gd3bj_3f670_yw0000gn/T/ipykernel_11918/2970428373.py:52: DeprecationWarning: Option approximation=False is deprecated as of qiskit-aer 0.13. It will be removed no earlier than 3 months after the release date. Instead, use BackendEstimator from qiskit.primitives.\n",
      "  exact_energy, vqe_energy = calculate_energies(distance)\n"
     ]
    },
    {
     "name": "stdout",
     "output_type": "stream",
     "text": [
      "Bond Distance: 0.79 Å | Exact: -1.1353 | VQE: -1.1161\n"
     ]
    },
    {
     "name": "stderr",
     "output_type": "stream",
     "text": [
      "/var/folders/3m/pc44t30x60gd3bj_3f670_yw0000gn/T/ipykernel_11918/2970428373.py:52: DeprecationWarning: Estimator has been deprecated as of Aer 0.15, please use EstimatorV2 instead.\n",
      "  exact_energy, vqe_energy = calculate_energies(distance)\n",
      "/var/folders/3m/pc44t30x60gd3bj_3f670_yw0000gn/T/ipykernel_11918/2970428373.py:52: DeprecationWarning: Option approximation=False is deprecated as of qiskit-aer 0.13. It will be removed no earlier than 3 months after the release date. Instead, use BackendEstimator from qiskit.primitives.\n",
      "  exact_energy, vqe_energy = calculate_energies(distance)\n"
     ]
    },
    {
     "name": "stdout",
     "output_type": "stream",
     "text": [
      "Bond Distance: 0.93 Å | Exact: -1.1154 | VQE: -1.0073\n"
     ]
    },
    {
     "name": "stderr",
     "output_type": "stream",
     "text": [
      "/var/folders/3m/pc44t30x60gd3bj_3f670_yw0000gn/T/ipykernel_11918/2970428373.py:52: DeprecationWarning: Estimator has been deprecated as of Aer 0.15, please use EstimatorV2 instead.\n",
      "  exact_energy, vqe_energy = calculate_energies(distance)\n",
      "/var/folders/3m/pc44t30x60gd3bj_3f670_yw0000gn/T/ipykernel_11918/2970428373.py:52: DeprecationWarning: Option approximation=False is deprecated as of qiskit-aer 0.13. It will be removed no earlier than 3 months after the release date. Instead, use BackendEstimator from qiskit.primitives.\n",
      "  exact_energy, vqe_energy = calculate_energies(distance)\n"
     ]
    },
    {
     "name": "stdout",
     "output_type": "stream",
     "text": [
      "Bond Distance: 1.07 Å | Exact: -1.0856 | VQE: -1.0668\n"
     ]
    },
    {
     "name": "stderr",
     "output_type": "stream",
     "text": [
      "/var/folders/3m/pc44t30x60gd3bj_3f670_yw0000gn/T/ipykernel_11918/2970428373.py:52: DeprecationWarning: Estimator has been deprecated as of Aer 0.15, please use EstimatorV2 instead.\n",
      "  exact_energy, vqe_energy = calculate_energies(distance)\n",
      "/var/folders/3m/pc44t30x60gd3bj_3f670_yw0000gn/T/ipykernel_11918/2970428373.py:52: DeprecationWarning: Option approximation=False is deprecated as of qiskit-aer 0.13. It will be removed no earlier than 3 months after the release date. Instead, use BackendEstimator from qiskit.primitives.\n",
      "  exact_energy, vqe_energy = calculate_energies(distance)\n"
     ]
    },
    {
     "name": "stdout",
     "output_type": "stream",
     "text": [
      "Bond Distance: 1.21 Å | Exact: -1.0536 | VQE: -0.9517\n"
     ]
    },
    {
     "name": "stderr",
     "output_type": "stream",
     "text": [
      "/var/folders/3m/pc44t30x60gd3bj_3f670_yw0000gn/T/ipykernel_11918/2970428373.py:52: DeprecationWarning: Estimator has been deprecated as of Aer 0.15, please use EstimatorV2 instead.\n",
      "  exact_energy, vqe_energy = calculate_energies(distance)\n",
      "/var/folders/3m/pc44t30x60gd3bj_3f670_yw0000gn/T/ipykernel_11918/2970428373.py:52: DeprecationWarning: Option approximation=False is deprecated as of qiskit-aer 0.13. It will be removed no earlier than 3 months after the release date. Instead, use BackendEstimator from qiskit.primitives.\n",
      "  exact_energy, vqe_energy = calculate_energies(distance)\n"
     ]
    },
    {
     "name": "stdout",
     "output_type": "stream",
     "text": [
      "Bond Distance: 1.36 Å | Exact: -1.0236 | VQE: -0.9770\n"
     ]
    },
    {
     "name": "stderr",
     "output_type": "stream",
     "text": [
      "/var/folders/3m/pc44t30x60gd3bj_3f670_yw0000gn/T/ipykernel_11918/2970428373.py:52: DeprecationWarning: Estimator has been deprecated as of Aer 0.15, please use EstimatorV2 instead.\n",
      "  exact_energy, vqe_energy = calculate_energies(distance)\n",
      "/var/folders/3m/pc44t30x60gd3bj_3f670_yw0000gn/T/ipykernel_11918/2970428373.py:52: DeprecationWarning: Option approximation=False is deprecated as of qiskit-aer 0.13. It will be removed no earlier than 3 months after the release date. Instead, use BackendEstimator from qiskit.primitives.\n",
      "  exact_energy, vqe_energy = calculate_energies(distance)\n"
     ]
    },
    {
     "name": "stdout",
     "output_type": "stream",
     "text": [
      "Bond Distance: 1.50 Å | Exact: -0.9981 | VQE: -0.9945\n"
     ]
    },
    {
     "name": "stderr",
     "output_type": "stream",
     "text": [
      "/var/folders/3m/pc44t30x60gd3bj_3f670_yw0000gn/T/ipykernel_11918/2970428373.py:52: DeprecationWarning: Estimator has been deprecated as of Aer 0.15, please use EstimatorV2 instead.\n",
      "  exact_energy, vqe_energy = calculate_energies(distance)\n",
      "/var/folders/3m/pc44t30x60gd3bj_3f670_yw0000gn/T/ipykernel_11918/2970428373.py:52: DeprecationWarning: Option approximation=False is deprecated as of qiskit-aer 0.13. It will be removed no earlier than 3 months after the release date. Instead, use BackendEstimator from qiskit.primitives.\n",
      "  exact_energy, vqe_energy = calculate_energies(distance)\n"
     ]
    },
    {
     "name": "stdout",
     "output_type": "stream",
     "text": [
      "Bond Distance: 1.64 Å | Exact: -0.9780 | VQE: -0.9646\n"
     ]
    },
    {
     "name": "stderr",
     "output_type": "stream",
     "text": [
      "/var/folders/3m/pc44t30x60gd3bj_3f670_yw0000gn/T/ipykernel_11918/2970428373.py:52: DeprecationWarning: Estimator has been deprecated as of Aer 0.15, please use EstimatorV2 instead.\n",
      "  exact_energy, vqe_energy = calculate_energies(distance)\n",
      "/var/folders/3m/pc44t30x60gd3bj_3f670_yw0000gn/T/ipykernel_11918/2970428373.py:52: DeprecationWarning: Option approximation=False is deprecated as of qiskit-aer 0.13. It will be removed no earlier than 3 months after the release date. Instead, use BackendEstimator from qiskit.primitives.\n",
      "  exact_energy, vqe_energy = calculate_energies(distance)\n"
     ]
    },
    {
     "name": "stdout",
     "output_type": "stream",
     "text": [
      "Bond Distance: 1.79 Å | Exact: -0.9631 | VQE: -0.9485\n"
     ]
    },
    {
     "name": "stderr",
     "output_type": "stream",
     "text": [
      "/var/folders/3m/pc44t30x60gd3bj_3f670_yw0000gn/T/ipykernel_11918/2970428373.py:52: DeprecationWarning: Estimator has been deprecated as of Aer 0.15, please use EstimatorV2 instead.\n",
      "  exact_energy, vqe_energy = calculate_energies(distance)\n",
      "/var/folders/3m/pc44t30x60gd3bj_3f670_yw0000gn/T/ipykernel_11918/2970428373.py:52: DeprecationWarning: Option approximation=False is deprecated as of qiskit-aer 0.13. It will be removed no earlier than 3 months after the release date. Instead, use BackendEstimator from qiskit.primitives.\n",
      "  exact_energy, vqe_energy = calculate_energies(distance)\n"
     ]
    },
    {
     "name": "stdout",
     "output_type": "stream",
     "text": [
      "Bond Distance: 1.93 Å | Exact: -0.9525 | VQE: -0.9489\n"
     ]
    },
    {
     "name": "stderr",
     "output_type": "stream",
     "text": [
      "/var/folders/3m/pc44t30x60gd3bj_3f670_yw0000gn/T/ipykernel_11918/2970428373.py:52: DeprecationWarning: Estimator has been deprecated as of Aer 0.15, please use EstimatorV2 instead.\n",
      "  exact_energy, vqe_energy = calculate_energies(distance)\n",
      "/var/folders/3m/pc44t30x60gd3bj_3f670_yw0000gn/T/ipykernel_11918/2970428373.py:52: DeprecationWarning: Option approximation=False is deprecated as of qiskit-aer 0.13. It will be removed no earlier than 3 months after the release date. Instead, use BackendEstimator from qiskit.primitives.\n",
      "  exact_energy, vqe_energy = calculate_energies(distance)\n"
     ]
    },
    {
     "name": "stdout",
     "output_type": "stream",
     "text": [
      "Bond Distance: 2.07 Å | Exact: -0.9455 | VQE: -0.9333\n"
     ]
    },
    {
     "name": "stderr",
     "output_type": "stream",
     "text": [
      "/var/folders/3m/pc44t30x60gd3bj_3f670_yw0000gn/T/ipykernel_11918/2970428373.py:52: DeprecationWarning: Estimator has been deprecated as of Aer 0.15, please use EstimatorV2 instead.\n",
      "  exact_energy, vqe_energy = calculate_energies(distance)\n",
      "/var/folders/3m/pc44t30x60gd3bj_3f670_yw0000gn/T/ipykernel_11918/2970428373.py:52: DeprecationWarning: Option approximation=False is deprecated as of qiskit-aer 0.13. It will be removed no earlier than 3 months after the release date. Instead, use BackendEstimator from qiskit.primitives.\n",
      "  exact_energy, vqe_energy = calculate_energies(distance)\n"
     ]
    },
    {
     "name": "stdout",
     "output_type": "stream",
     "text": [
      "Bond Distance: 2.21 Å | Exact: -0.9408 | VQE: -0.9292\n"
     ]
    },
    {
     "name": "stderr",
     "output_type": "stream",
     "text": [
      "/var/folders/3m/pc44t30x60gd3bj_3f670_yw0000gn/T/ipykernel_11918/2970428373.py:52: DeprecationWarning: Estimator has been deprecated as of Aer 0.15, please use EstimatorV2 instead.\n",
      "  exact_energy, vqe_energy = calculate_energies(distance)\n",
      "/var/folders/3m/pc44t30x60gd3bj_3f670_yw0000gn/T/ipykernel_11918/2970428373.py:52: DeprecationWarning: Option approximation=False is deprecated as of qiskit-aer 0.13. It will be removed no earlier than 3 months after the release date. Instead, use BackendEstimator from qiskit.primitives.\n",
      "  exact_energy, vqe_energy = calculate_energies(distance)\n"
     ]
    },
    {
     "name": "stdout",
     "output_type": "stream",
     "text": [
      "Bond Distance: 2.36 Å | Exact: -0.9379 | VQE: -0.9266\n"
     ]
    },
    {
     "name": "stderr",
     "output_type": "stream",
     "text": [
      "/var/folders/3m/pc44t30x60gd3bj_3f670_yw0000gn/T/ipykernel_11918/2970428373.py:52: DeprecationWarning: Estimator has been deprecated as of Aer 0.15, please use EstimatorV2 instead.\n",
      "  exact_energy, vqe_energy = calculate_energies(distance)\n",
      "/var/folders/3m/pc44t30x60gd3bj_3f670_yw0000gn/T/ipykernel_11918/2970428373.py:52: DeprecationWarning: Option approximation=False is deprecated as of qiskit-aer 0.13. It will be removed no earlier than 3 months after the release date. Instead, use BackendEstimator from qiskit.primitives.\n",
      "  exact_energy, vqe_energy = calculate_energies(distance)\n"
     ]
    },
    {
     "name": "stdout",
     "output_type": "stream",
     "text": [
      "Bond Distance: 2.50 Å | Exact: -0.9361 | VQE: -0.9280\n"
     ]
    },
    {
     "data": {
      "image/png": "[encoded data removed]",
      "text/plain": [
       "<Figure size 1000x600 with 1 Axes>"
      ]
     },
     "metadata": {},
     "output_type": "display_data"
    }
   ],
   "source": [
    "def calculate_energies(bond_distance):\n",
    "    \n",
    "    # Define the molecule\n",
    "    molecule = MoleculeInfo(\n",
    "        symbols=[\"H\", \"H\"],\n",
    "        coords=[(0.0, 0.0, 0.0), (0.0, 0.0, bond_distance)],\n",
    "        multiplicity=1,\n",
    "        charge=0,\n",
    "        units=DistanceUnit.ANGSTROM\n",
    "    )\n",
    "    \n",
    "    # Create the driver and problem\n",
    "    driver = PySCFDriver.from_molecule(molecule, basis=\"sto3g\")\n",
    "    problem = driver.run()\n",
    "    \n",
    "    # Mapper for qubit reduction via parity mapping\n",
    "    mapper = ParityMapper(num_particles=problem.num_particles)\n",
    "    \n",
    "    # Exact classical solver for comparison\n",
    "    exact_solver = GroundStateEigensolver(mapper, NumPyMinimumEigensolver())\n",
    "    exact_result = exact_solver.solve(problem)\n",
    "    \n",
    "    # VQE setup with UCCSD ansatz and Hartree-Fock initial state\n",
    "    ansatz = UCCSD(\n",
    "        num_spatial_orbitals=problem.num_spatial_orbitals,\n",
    "        num_particles=problem.num_particles,\n",
    "        qubit_mapper=mapper,\n",
    "        initial_state=HartreeFock(\n",
    "            problem.num_spatial_orbitals,\n",
    "            problem.num_particles,\n",
    "            mapper\n",
    "        )\n",
    "    )\n",
    "    \n",
    "    # Initialize VQE with estimator and optimizer\n",
    "    estimator = Estimator()\n",
    "    optimizer = COBYLA(maxiter=100)\n",
    "    vqe_solver = GroundStateEigensolver(\n",
    "        mapper,\n",
    "        VQE(estimator, ansatz, optimizer)\n",
    "    )\n",
    "    vqe_result = vqe_solver.solve(problem)\n",
    "    \n",
    "    return exact_result.total_energies[0], vqe_result.total_energies[0]\n",
    "\n",
    "# Compute energies across bond distances and plot results\n",
    "bond_distances = np.linspace(0.5, 2.5, 15)  # Bond distances in Ångstroms\n",
    "exact_energies = []\n",
    "vqe_energies = []\n",
    "\n",
    "for distance in bond_distances:\n",
    "    exact_energy, vqe_energy = calculate_energies(distance)\n",
    "    exact_energies.append(exact_energy)\n",
    "    vqe_energies.append(vqe_energy)\n",
    "    print(f\"Bond Distance: {distance:.2f} Å | Exact: {exact_energy:.4f} | VQE: {vqe_energy:.4f}\")\n",
    "\n",
    "# Plot results\n",
    "plt.figure(figsize=(10, 6))\n",
    "plt.plot(bond_distances, exact_energies, 'ro-', label='Exact')\n",
    "plt.plot(bond_distances, vqe_energies, 'bs--', label='VQE')\n",
    "plt.title('H₂ Potential Energy Curve [STO-3G]', fontsize=14)\n",
    "plt.xlabel('Bond Distance (Å)', fontsize=12)\n",
    "plt.ylabel('Energy (Hartree)', fontsize=12)\n",
    "plt.legend()\n",
    "plt.grid(True)\n",
    "plt.show()"
   ]
  },
  {
   "cell_type": "code",
   "execution_count": 6,
   "id": "4264b1a7",
   "metadata": {},
   "outputs": [
    {
     "name": "stdout",
     "output_type": "stream",
     "text": [
      "\n",
      "Minimum energy (VQE): -1.121213 Ha at distance: 0.6 Å\n",
      "\n",
      "Minimum energy (exact): -1.135325 Ha at distance: 0.8 Å\n"
     ]
    }
   ],
   "source": [
    "# Find minimum energy\n",
    "# VQE\n",
    "min_energy = min(vqe_energies)\n",
    "min_distance = bond_distances[vqe_energies.index(min_energy)]\n",
    "print(f\"\\nMinimum energy (VQE): {min_energy:.6f} Ha at distance: {min_distance:.1f} Å\")\n",
    "# Exact\n",
    "min_energy = min(exact_energies)\n",
    "min_distance = bond_distances[exact_energies.index(min_energy)]\n",
    "print(f\"\\nMinimum energy (exact): {min_energy:.6f} Ha at distance: {min_distance:.1f} Å\")\n",
    "\n",
    "\n"
   ]
  },
  {
   "cell_type": "code",
   "execution_count": 7,
   "id": "91693781",
   "metadata": {},
   "outputs": [
    {
     "data": {
      "text/html": [
       "<h3>Version Information</h3><table><tr><th>Software</th><th>Version</th></tr><tr><td><code>qiskit</code></td><td>1.4.2</td></tr><tr><td><code>qiskit_algorithms</code></td><td>0.3.1</td></tr><tr><td><code>qiskit_aer</code></td><td>0.17.0</td></tr><tr><td><code>qiskit_nature</code></td><td>0.7.2</td></tr><tr><td><code>qiskit_ibm_runtime</code></td><td>0.37.0</td></tr><tr><th colspan='2'>System information</th></tr><tr><td>Python version</td><td>3.11.10</td></tr><tr><td>OS</td><td>Darwin</td></tr><tr><td colspan='2'>Wed Jul 02 22:04:28 2025 IST</td></tr></table>"
      ],
      "text/plain": [
       "<IPython.core.display.HTML object>"
      ]
     },
     "metadata": {},
     "output_type": "display_data"
    }
   ],
   "source": [
    "import tutorial_magics\n",
    "\n",
    "%qiskit_version_table"
   ]
  },
  {
   "cell_type": "code",
   "execution_count": 10,
   "id": "b2bc7f68",
   "metadata": {},
   "outputs": [
    {
     "name": "stdout",
     "output_type": "stream",
     "text": [
      "\n",
      "(4x4) Hamiltonian\n",
      "[[ 0.    0.   -0.5   0.  ]\n",
      " [ 0.    0.75 -0.5   0.  ]\n",
      " [-0.5  -0.5  -0.25  0.  ]\n",
      " [ 0.    0.    0.    0.  ]]\n",
      "\n",
      "Qubit Op Eigenvalues:\n",
      " [-0.75  0.    0.25  1.  ]\n"
     ]
    },
    {
     "name": "stderr",
     "output_type": "stream",
     "text": [
      "/var/folders/3m/pc44t30x60gd3bj_3f670_yw0000gn/T/ipykernel_11918/3007384924.py:30: DeprecationWarning: The class ``qiskit.primitives.estimator.Estimator`` is deprecated as of qiskit 1.2. It will be removed no earlier than 3 months after the release date. All implementations of the `BaseEstimatorV1` interface have been deprecated in favor of their V2 counterparts. The V2 alternative for the `Estimator` class is `StatevectorEstimator`.\n",
      "  estimator = Estimator()  # Primitive Estimator instead of Aer backend\n"
     ]
    },
    {
     "name": "stdout",
     "output_type": "stream",
     "text": [
      "VQE Eigenvalue: -0.7497602708504786\n"
     ]
    }
   ],
   "source": [
    "import numpy as np\n",
    "from qiskit_algorithms import VQE, NumPyEigensolver\n",
    "from qiskit.quantum_info import SparsePauliOp\n",
    "from qiskit.primitives import Estimator  # Use the Primitive Estimator\n",
    "from qiskit.circuit.library import EfficientSU2\n",
    "from qiskit_algorithms.optimizers import SPSA\n",
    "\n",
    "# Constants and Hamiltonian construction (same as before)\n",
    "c1, c2, c3 = -0.5, 0.75, 2.0\n",
    "n2 = 4\n",
    "Hamil_4x4 = np.zeros((n2, n2))\n",
    "Hamil_4x4[1,1] = c2\n",
    "Hamil_4x4[2,2] = -c3/2 + c2\n",
    "Hamil_4x4[[0,1,2], [2,2,0]] = c1\n",
    "Hamil_4x4[2,1] = c1\n",
    "\n",
    "print(\"\\n(4x4) Hamiltonian\")\n",
    "print(Hamil_4x4)\n",
    "\n",
    "# Convert to quantum operator\n",
    "Hamil_Qop = SparsePauliOp.from_operator(Hamil_4x4)\n",
    "\n",
    "# Exact solver (replaces NumPyEigensolver.run())\n",
    "exact_solver = NumPyEigensolver(k=4)\n",
    "exact_result = exact_solver.compute_eigenvalues(Hamil_Qop)\n",
    "print(\"\\nQubit Op Eigenvalues:\\n\", exact_result.eigenvalues)\n",
    "\n",
    "\n",
    "# === VQE Setup ===\n",
    "estimator = Estimator()  # Primitive Estimator instead of Aer backend\n",
    "optimizer = SPSA(maxiter=100)\n",
    "ansatz = EfficientSU2(Hamil_Qop.num_qubits, entanglement=\"linear\")\n",
    "\n",
    "vqe = VQE(\n",
    "    estimator=estimator,  # Use the Primitive Estimator\n",
    "    ansatz=ansatz,\n",
    "    optimizer=optimizer,\n",
    "    initial_point=np.random.rand(ansatz.num_parameters)\n",
    ")\n",
    "\n",
    "vqe_result = vqe.compute_minimum_eigenvalue(Hamil_Qop)\n",
    "print(\"VQE Eigenvalue:\", vqe_result.eigenvalue)"
   ]
  },
  {
   "cell_type": "code",
   "execution_count": 11,
   "id": "bcf98516",
   "metadata": {},
   "outputs": [
    {
     "name": "stdout",
     "output_type": "stream",
     "text": [
      "XYZ Format:\n",
      "\n",
      "2\n",
      "\n",
      "H    0.000000    0.000000    0.000000\n",
      "H    0.000000    0.000000    0.735000\n"
     ]
    },
    {
     "data": {
      "image/png": "[encoded data removed]",
      "text/plain": [
       "<Figure size 640x480 with 1 Axes>"
      ]
     },
     "metadata": {},
     "output_type": "display_data"
    }
   ],
   "source": [
    "from qiskit_nature.second_q.drivers import PySCFDriver\n",
    "from qiskit_nature.second_q.formats.molecule_info import MoleculeInfo\n",
    "from qiskit_nature.units import DistanceUnit\n",
    "\n",
    "import matplotlib.pyplot as plt\n",
    "\n",
    "# --- Step 1: Define MoleculeInfo ---\n",
    "bond_distance = 0.735  # in angstrom\n",
    "molecule = MoleculeInfo(\n",
    "    symbols=[\"H\", \"H\"],\n",
    "    coords=[(0.0, 0.0, 0.0), (0.0, 0.0, bond_distance)],\n",
    "    multiplicity=1,\n",
    "    charge=0,\n",
    "    units=DistanceUnit.ANGSTROM\n",
    ")\n",
    "\n",
    "# --- Step 2: Initialize PySCFDriver with MoleculeInfo ---\n",
    "#driver = PySCFDriver(molecule=molecule, basis=\"sto3g\") # x wrong\n",
    "driver = PySCFDriver.from_molecule(molecule, basis=\"sto3g\")\n",
    "problem = driver.run()\n",
    "\n",
    "# --- Step 3: Convert to XYZ format ---\n",
    "def moleculeinfo_to_xyz(molinfo):\n",
    "    lines = [str(len(molinfo.symbols)), \"\"]\n",
    "    for symbol, coord in zip(molinfo.symbols, molinfo.coords):\n",
    "        lines.append(f\"{symbol}    {coord[0]:.6f}    {coord[1]:.6f}    {coord[2]:.6f}\")\n",
    "    return \"\\n\".join(lines)\n",
    "\n",
    "xyz_string = moleculeinfo_to_xyz(molecule)\n",
    "print(\"XYZ Format:\\n\")\n",
    "print(xyz_string)\n",
    "\n",
    "# Optional: Save to file\n",
    "with open(\"molecule.xyz\", \"w\") as f:\n",
    "    f.write(xyz_string)\n",
    "\n",
    "# --- Step 4: Simple 2D Visualization (x–z plane) ---\n",
    "def plot_moleculeinfo_2d(molinfo):\n",
    "    fig, ax = plt.subplots()\n",
    "    for symbol, coord in zip(molinfo.symbols, molinfo.coords):\n",
    "        x, _, z = coord\n",
    "        ax.plot(x, z, 'o', markersize=20)\n",
    "        ax.text(x, z + 0.1, symbol, ha='center', va='bottom', fontsize=12)\n",
    "\n",
    "    ax.set_title(\"2D Molecular Geometry (x–z plane)\")\n",
    "    ax.set_xlabel(\"x (Å)\")\n",
    "    ax.set_ylabel(\"z (Å)\")\n",
    "    ax.set_aspect('equal')\n",
    "    ax.grid(True)\n",
    "    plt.show()\n",
    "\n",
    "plot_moleculeinfo_2d(molecule)\n"
   ]
  },
  {
   "cell_type": "code",
   "execution_count": null,
   "id": "80fbeefb",
   "metadata": {},
   "outputs": [],
   "source": []
  }
 ],
 "metadata": {
  "kernelspec": {
   "display_name": "Python 3 (ipykernel)",
   "language": "python",
   "name": "python3"
  },
  "language_info": {
   "codemirror_mode": {
    "name": "ipython",
    "version": 3
   },
   "file_extension": ".py",
   "mimetype": "text/x-python",
   "name": "python",
   "nbconvert_exporter": "python",
   "pygments_lexer": "ipython3",
   "version": "3.11.10"
  }
 },
 "nbformat": 4,
 "nbformat_minor": 5
}
