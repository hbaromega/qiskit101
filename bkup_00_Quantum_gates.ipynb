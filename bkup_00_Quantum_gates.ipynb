{
 "cells": [
  {
   "cell_type": "markdown",
   "id": "d9b2f2ab",
   "metadata": {},
   "source": [
    "# Basic Quantum Gates"
   ]
  },
  {
   "cell_type": "code",
   "execution_count": 62,
   "id": "f47ef5e9",
   "metadata": {},
   "outputs": [],
   "source": [
    "from qiskit import QuantumCircuit\n",
    "from qiskit.quantum_info import Statevector\n",
    "from qiskit.visualization.array import array_to_latex"
   ]
  },
  {
   "cell_type": "markdown",
   "id": "e4e2d2b8",
   "metadata": {},
   "source": [
    "## <font color='blue'>Create a quantum channel for single qubit (default qubit: $|0\\rangle$)<blue>"
   ]
  },
  {
   "cell_type": "code",
   "execution_count": 63,
   "id": "12148387",
   "metadata": {
    "scrolled": false
   },
   "outputs": [
    {
     "name": "stdout",
     "output_type": "stream",
     "text": [
      "Statevector([1.+0.j, 0.+0.j],\n",
      "            dims=(2,))\n"
     ]
    },
    {
     "data": {
      "text/latex": [
       "$$\n",
       "|0\\rangle^\\dagger = \n",
       "\\begin{bmatrix}\n",
       "1 & 0  \\\\\n",
       " \\end{bmatrix}\n",
       "$$"
      ],
      "text/plain": [
       "<IPython.core.display.Latex object>"
      ]
     },
     "execution_count": 63,
     "metadata": {},
     "output_type": "execute_result"
    }
   ],
   "source": [
    "qc = QuantumCircuit(1)\n",
    "ket = Statevector(qc)\n",
    "\n",
    "print(ket) # Default state is |0> = [ 1 ]                   \n",
    "           #                        [ 0 ]\n",
    "ket.draw('latex')    \n",
    "array_to_latex(ket, prefix=\"|0\\\\rangle^\\dagger = \")"
   ]
  },
  {
   "cell_type": "markdown",
   "id": "203eb653",
   "metadata": {},
   "source": [
    "## <font color='blue'>X-gate (NOT operator): $\\hat{X} = \\begin{bmatrix} 0 & 1\\\\ 1 & 0\\end{bmatrix}$</font>"
   ]
  },
  {
   "cell_type": "code",
   "execution_count": 64,
   "id": "dc965d44",
   "metadata": {},
   "outputs": [
    {
     "data": {
      "image/png": "[encoded data removed]",
      "text/plain": [
       "<Figure size 185.453x117.056 with 1 Axes>"
      ]
     },
     "execution_count": 64,
     "metadata": {},
     "output_type": "execute_result"
    }
   ],
   "source": [
    "# Create an X-gate operation on the qubit at channel 0\n",
    "qc.x(0)\n",
    "qc.draw('mpl') # Visualize circuit with matplotlib"
   ]
  },
  {
   "cell_type": "code",
   "execution_count": 65,
   "id": "0dfb57e2",
   "metadata": {},
   "outputs": [
    {
     "name": "stdout",
     "output_type": "stream",
     "text": [
      "Statevector([0.+0.j, 1.+0.j],\n",
      "            dims=(2,))\n"
     ]
    },
    {
     "data": {
      "text/latex": [
       "$$\n",
       "|1\\rangle^\\dagger = \n",
       "\\begin{bmatrix}\n",
       "0 & 1  \\\\\n",
       " \\end{bmatrix}\n",
       "$$"
      ],
      "text/plain": [
       "<IPython.core.display.Latex object>"
      ]
     },
     "execution_count": 65,
     "metadata": {},
     "output_type": "execute_result"
    }
   ],
   "source": [
    "ket = Statevector(qc)\n",
    "print(ket) # Default state is |0> = [ 1 ]                   #                        [ 0 ]\n",
    "ket.draw('latex')    \n",
    "array_to_latex(ket, prefix=\"|1\\\\rangle^\\dagger = \")"
   ]
  },
  {
   "cell_type": "markdown",
   "id": "3f2b7b22",
   "metadata": {},
   "source": [
    "## <font color='blue'>Z-gate (PHASE operator): $\\hat{Z} = \\begin{bmatrix} 1 & 0\\\\ 0 & -1\\end{bmatrix}$</font>"
   ]
  },
  {
   "cell_type": "code",
   "execution_count": 66,
   "id": "00218109",
   "metadata": {},
   "outputs": [
    {
     "data": {
      "image/png": "[encoded data removed]",
      "text/plain": [
       "<Figure size 269.064x117.056 with 1 Axes>"
      ]
     },
     "execution_count": 66,
     "metadata": {},
     "output_type": "execute_result"
    }
   ],
   "source": [
    "qc.z(0)\n",
    "qc.draw('mpl')"
   ]
  },
  {
   "cell_type": "code",
   "execution_count": 67,
   "id": "322a07a1",
   "metadata": {},
   "outputs": [
    {
     "name": "stdout",
     "output_type": "stream",
     "text": [
      "Statevector([ 0.+0.j, -1.+0.j],\n",
      "            dims=(2,))\n"
     ]
    },
    {
     "data": {
      "text/latex": [
       "$$\n",
       "(\\hat{Z} |1\\rangle)^\\dagger = \n",
       "\\begin{bmatrix}\n",
       "0 & -1  \\\\\n",
       " \\end{bmatrix}\n",
       "$$"
      ],
      "text/plain": [
       "<IPython.core.display.Latex object>"
      ]
     },
     "execution_count": 67,
     "metadata": {},
     "output_type": "execute_result"
    }
   ],
   "source": [
    "ket = Statevector(qc)\n",
    "print(ket) # Default state is |0> = [ 1 ]                   #                        [ 0 ]\n",
    "ket.draw('latex')    \n",
    "array_to_latex(ket, prefix=\"(\\hat{Z} |1\\\\rangle)^\\dagger = \")"
   ]
  },
  {
   "cell_type": "markdown",
   "id": "813b2db3",
   "metadata": {},
   "source": [
    "## <font color='blue'> H-gate (SUPERPOSITION operator): $\\hat{H} =\\frac{1}{\\sqrt{2}} \\begin{bmatrix} 1 & 1\\\\ 1 & -1\\end{bmatrix}$</font>"
   ]
  },
  {
   "cell_type": "code",
   "execution_count": 68,
   "id": "a978de9b",
   "metadata": {},
   "outputs": [
    {
     "data": {
      "image/png": "[encoded data removed]",
      "text/plain": [
       "<Figure size 352.675x117.056 with 1 Axes>"
      ]
     },
     "metadata": {},
     "output_type": "display_data"
    },
    {
     "name": "stdout",
     "output_type": "stream",
     "text": [
      "Statevector([-0.70710678+0.j,  0.70710678+0.j],\n",
      "            dims=(2,))\n"
     ]
    },
    {
     "data": {
      "text/markdown": [
       "$\\hat{H}(- |1\\rangle) =$"
      ],
      "text/plain": [
       "<IPython.core.display.Markdown object>"
      ]
     },
     "metadata": {},
     "output_type": "display_data"
    },
    {
     "data": {
      "text/latex": [
       "$$- \\frac{\\sqrt{2}}{2} |0\\rangle+\\frac{\\sqrt{2}}{2} |1\\rangle$$"
      ],
      "text/plain": [
       "<IPython.core.display.Latex object>"
      ]
     },
     "metadata": {},
     "output_type": "display_data"
    },
    {
     "data": {
      "text/latex": [
       "$$\n",
       "(\\text{Superposition state})^T = \n",
       "\\begin{bmatrix}\n",
       "- \\frac{\\sqrt{2}}{2} & \\frac{\\sqrt{2}}{2}  \\\\\n",
       " \\end{bmatrix}\n",
       "$$"
      ],
      "text/plain": [
       "<IPython.core.display.Latex object>"
      ]
     },
     "execution_count": 68,
     "metadata": {},
     "output_type": "execute_result"
    }
   ],
   "source": [
    "from IPython.display import Markdown\n",
    "qc.h(0)\n",
    "display(qc.draw('mpl'))\n",
    "ket = Statevector(qc)\n",
    "print(ket)\n",
    "display(Markdown(r'$\\hat{H}(- |1\\rangle) =$'),ket.draw('latex'))\n",
    "array_to_latex(ket, prefix=\"(\\\\text{Superposition state})^T = \")"
   ]
  },
  {
   "cell_type": "markdown",
   "id": "0b628c37",
   "metadata": {},
   "source": [
    "## <font color=DarkGreen> Create 2 quantum channels for 2 qubits</font>"
   ]
  },
  {
   "cell_type": "code",
   "execution_count": 69,
   "id": "ddcec600",
   "metadata": {},
   "outputs": [
    {
     "name": "stdout",
     "output_type": "stream",
     "text": [
      "Statevector([1.+0.j, 0.+0.j, 0.+0.j, 0.+0.j],\n",
      "            dims=(2, 2))\n"
     ]
    },
    {
     "data": {
      "image/png": "[encoded data removed]",
      "text/plain": [
       "<Figure size 161.878x200.667 with 1 Axes>"
      ]
     },
     "execution_count": 69,
     "metadata": {},
     "output_type": "execute_result"
    }
   ],
   "source": [
    "qc2 = QuantumCircuit(2)\n",
    "statevector = Statevector(qc2)\n",
    "print(statevector)\n",
    "qc2.draw('mpl')"
   ]
  },
  {
   "cell_type": "markdown",
   "id": "bda701ce",
   "metadata": {},
   "source": [
    "## <font color=DarkGreen>Make first qubit to state $|1\\rangle$ by operating an X-gate</font>\n",
    "\n",
    "### N.B.: Qubits are registered from bottom to top on the circuit channels, i.e. inside the direct product ket, the last qubit is written first and the next qubit is written on the right of it. Thus the first qubit sits on the extreme right position.  "
   ]
  },
  {
   "cell_type": "code",
   "execution_count": 70,
   "id": "aa60dc6e",
   "metadata": {
    "scrolled": true
   },
   "outputs": [
    {
     "name": "stdout",
     "output_type": "stream",
     "text": [
      "Statevector([0.+0.j, 1.+0.j, 0.+0.j, 0.+0.j],\n",
      "            dims=(2, 2))\n",
      "Statevector([0.+0.j, 1.+0.j, 0.+0.j, 0.+0.j],\n",
      "            dims=(2, 2))\n"
     ]
    },
    {
     "data": {
      "text/markdown": [
       "Two qubit state ="
      ],
      "text/plain": [
       "<IPython.core.display.Markdown object>"
      ]
     },
     "metadata": {},
     "output_type": "display_data"
    },
    {
     "data": {
      "text/latex": [
       "$$ |01\\rangle$$"
      ],
      "text/plain": [
       "<IPython.core.display.Latex object>"
      ]
     },
     "metadata": {},
     "output_type": "display_data"
    },
    {
     "data": {
      "text/latex": [
       "$$\n",
       "(\\text{Two qubit state})^T = \n",
       "\\begin{bmatrix}\n",
       "0 & 1 & 0 & 0  \\\\\n",
       " \\end{bmatrix}\n",
       "$$"
      ],
      "text/plain": [
       "<IPython.core.display.Latex object>"
      ]
     },
     "execution_count": 70,
     "metadata": {},
     "output_type": "execute_result"
    }
   ],
   "source": [
    "qc2.x(0)\n",
    "statevector = Statevector(qc2)\n",
    "print(statevector)\n",
    "qc2.draw('mpl')\n",
    "ket = Statevector(qc2)\n",
    "print(ket)\n",
    "display(Markdown(r'Two qubit state ='),ket.draw('latex'))\n",
    "array_to_latex(ket, prefix=\"(\\\\text{Two qubit state})^T = \")"
   ]
  },
  {
   "cell_type": "markdown",
   "id": "180aede4",
   "metadata": {},
   "source": [
    "## <font color=DarkGreen>Now operate Controlled NOT: CX(0,1)</font>"
   ]
  },
  {
   "cell_type": "code",
   "execution_count": 71,
   "id": "1c2f4a26",
   "metadata": {},
   "outputs": [
    {
     "data": {
      "image/png": "[encoded data removed]",
      "text/plain": [
       "<Figure size 287.294x200.667 with 1 Axes>"
      ]
     },
     "execution_count": 71,
     "metadata": {},
     "output_type": "execute_result"
    }
   ],
   "source": [
    "qc2.cx(0,1)\n",
    "qc2.draw('mpl')"
   ]
  },
  {
   "cell_type": "code",
   "execution_count": 72,
   "id": "e651e1ec",
   "metadata": {},
   "outputs": [
    {
     "name": "stdout",
     "output_type": "stream",
     "text": [
      "Statevector([0.+0.j, 0.+0.j, 0.+0.j, 1.+0.j],\n",
      "            dims=(2, 2))\n"
     ]
    },
    {
     "data": {
      "text/markdown": [
       "State after CX(0,1) ="
      ],
      "text/plain": [
       "<IPython.core.display.Markdown object>"
      ]
     },
     "metadata": {},
     "output_type": "display_data"
    },
    {
     "data": {
      "text/latex": [
       "$$ |11\\rangle$$"
      ],
      "text/plain": [
       "<IPython.core.display.Latex object>"
      ]
     },
     "metadata": {},
     "output_type": "display_data"
    },
    {
     "data": {
      "text/latex": [
       "$$\n",
       "(\\text{State after CX(0,1)})^T = \n",
       "\\begin{bmatrix}\n",
       "0 & 0 & 0 & 1  \\\\\n",
       " \\end{bmatrix}\n",
       "$$"
      ],
      "text/plain": [
       "<IPython.core.display.Latex object>"
      ]
     },
     "execution_count": 72,
     "metadata": {},
     "output_type": "execute_result"
    }
   ],
   "source": [
    "ket = Statevector(qc2)\n",
    "print(ket)\n",
    "display(Markdown(r'State after CX(0,1) ='),ket.draw('latex'))\n",
    "array_to_latex(ket, prefix=\"(\\\\text{State after CX(0,1)})^T = \")"
   ]
  },
  {
   "cell_type": "markdown",
   "id": "70042754",
   "metadata": {},
   "source": [
    "## <font color=DarkGreen>Now operate Controlled Z: CZ(0,1)</font>"
   ]
  },
  {
   "cell_type": "code",
   "execution_count": 73,
   "id": "b9ca46af",
   "metadata": {},
   "outputs": [
    {
     "data": {
      "image/png": "[encoded data removed]",
      "text/plain": [
       "<Figure size 370.906x200.667 with 1 Axes>"
      ]
     },
     "execution_count": 73,
     "metadata": {},
     "output_type": "execute_result"
    }
   ],
   "source": [
    "qc2.cz(0,1)\n",
    "qc2.draw('mpl')"
   ]
  },
  {
   "cell_type": "code",
   "execution_count": 74,
   "id": "64bccf27",
   "metadata": {},
   "outputs": [
    {
     "name": "stdout",
     "output_type": "stream",
     "text": [
      "Statevector([ 0.+0.j,  0.+0.j,  0.+0.j, -1.+0.j],\n",
      "            dims=(2, 2))\n"
     ]
    },
    {
     "data": {
      "text/markdown": [
       "State after CZ(0,1) ="
      ],
      "text/plain": [
       "<IPython.core.display.Markdown object>"
      ]
     },
     "metadata": {},
     "output_type": "display_data"
    },
    {
     "data": {
      "text/latex": [
       "$$- |11\\rangle$$"
      ],
      "text/plain": [
       "<IPython.core.display.Latex object>"
      ]
     },
     "metadata": {},
     "output_type": "display_data"
    },
    {
     "data": {
      "text/latex": [
       "$$\n",
       "(\\text{State after CZ(0,1)})^T = \n",
       "\\begin{bmatrix}\n",
       "0 & 0 & 0 & -1  \\\\\n",
       " \\end{bmatrix}\n",
       "$$"
      ],
      "text/plain": [
       "<IPython.core.display.Latex object>"
      ]
     },
     "execution_count": 74,
     "metadata": {},
     "output_type": "execute_result"
    }
   ],
   "source": [
    "ket = Statevector(qc2)\n",
    "print(ket)\n",
    "display(Markdown(r'State after CZ(0,1) ='),ket.draw('latex'))\n",
    "array_to_latex(ket, prefix=\"(\\\\text{State after CZ(0,1)})^T = \")"
   ]
  },
  {
   "cell_type": "code",
   "execution_count": null,
   "id": "99c520a8",
   "metadata": {},
   "outputs": [],
   "source": []
  }
 ],
 "metadata": {
  "kernelspec": {
   "display_name": "Python 3 (ipykernel)",
   "language": "python",
   "name": "python3"
  },
  "language_info": {
   "codemirror_mode": {
    "name": "ipython",
    "version": 3
   },
   "file_extension": ".py",
   "mimetype": "text/x-python",
   "name": "python",
   "nbconvert_exporter": "python",
   "pygments_lexer": "ipython3",
   "version": "3.11.9"
  }
 },
 "nbformat": 4,
 "nbformat_minor": 5
}
