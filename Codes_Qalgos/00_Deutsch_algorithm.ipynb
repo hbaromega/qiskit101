{
 "cells": [
  {
   "cell_type": "markdown",
   "id": "2fb27e7a",
   "metadata": {},
   "source": [
    "# Deutsch algorithm"
   ]
  },
  {
   "cell_type": "code",
   "execution_count": 11,
   "id": "c7c99900",
   "metadata": {
    "scrolled": true
   },
   "outputs": [],
   "source": [
    "import random\n",
    "from qiskit import QuantumCircuit, transpile\n",
    "from qiskit_aer import AerSimulator"
   ]
  },
  {
   "cell_type": "markdown",
   "id": "bdb3cc2a",
   "metadata": {},
   "source": [
    "### Create the oracle"
   ]
  },
  {
   "cell_type": "code",
   "execution_count": 12,
   "id": "0529c115",
   "metadata": {},
   "outputs": [],
   "source": [
    "# Create the oracle implementing the unknown function\n",
    "def make_oracle(f):\n",
    "    \"\"\"\n",
    "    Creates an oracle for the Deutsch problem.\n",
    "\n",
    "    Args:\n",
    "        f(list): The unknown function [f(0), f(1)].\n",
    "\n",
    "    Returns:\n",
    "        QuantumCircuit: The oracle circuit.\n",
    "    \"\"\"\n",
    "    oracle = QuantumCircuit(2)\n",
    "    if  f[0]:  # if f(0) = 1 \n",
    "        oracle.cx(0, 1)\n",
    "        oracle.x(1)\n",
    "    if  f[1]:  # if f(1) = 1\n",
    "        oracle.cx(0, 1)\n",
    "    return oracle"
   ]
  },
  {
   "cell_type": "markdown",
   "id": "2262a219",
   "metadata": {},
   "source": [
    "### Create Deutsch circuit"
   ]
  },
  {
   "cell_type": "code",
   "execution_count": 13,
   "id": "d18362a6",
   "metadata": {},
   "outputs": [],
   "source": [
    "# Create the Deutsch circuit that uses the oracle\n",
    "def make_deutsch_circuit(f):\n",
    "    \"\"\"\n",
    "    Creates the Deutsch algorithm circuit.\n",
    "\n",
    "    Args:\n",
    "        f(list): The unknown function [f(0), f(1)].\n",
    "\n",
    "    Returns:\n",
    "        QuantumCircuit: The Deutsch algorithm circuit.\n",
    "    \"\"\"\n",
    "    qc = QuantumCircuit(2, 1)\n",
    "\n",
    "    # Initialize qubits\n",
    "    qc.x(1)  # Set the second qubit to |1>\n",
    "    qc.h(0)\n",
    "    qc.h(1)\n",
    "\n",
    "    # Query oracle\n",
    "    oracle = make_oracle(f)\n",
    "    qc.compose(oracle, inplace=True)\n",
    "\n",
    "    # Apply Hadamard gate to the first qubit\n",
    "    qc.h(0)\n",
    "\n",
    "    # Measure the first qubit\n",
    "    qc.measure(0, 0)\n",
    "    display(qc.draw('mpl'))\n",
    "    return qc\n",
    "\n"
   ]
  },
  {
   "cell_type": "markdown",
   "id": "35916491",
   "metadata": {},
   "source": [
    "### Implement Deutsch circuit with the oracle and simulate"
   ]
  },
  {
   "cell_type": "code",
   "execution_count": 22,
   "id": "15caa2d2",
   "metadata": {},
   "outputs": [
    {
     "name": "stdout",
     "output_type": "stream",
     "text": [
      "Unknown function, f(x) = [1, 1]  for x in {0,1}.\n"
     ]
    },
    {
     "data": {
      "image/png": "[encoded data removed]",
      "text/plain": [
       "<Figure size 705.35x284.278 with 1 Axes>"
      ]
     },
     "metadata": {},
     "output_type": "display_data"
    },
    {
     "name": "stdout",
     "output_type": "stream",
     "text": [
      "Counts = {'0': 10} ; No of shots = 10\n",
      "Result_key = 0\n",
      "Circuit:\n",
      "     ┌───┐                    ┌───┐┌─┐\n",
      "q_0: ┤ H ├───────■─────────■──┤ H ├┤M├\n",
      "     ├───┤┌───┐┌─┴─┐┌───┐┌─┴─┐└───┘└╥┘\n",
      "q_1: ┤ X ├┤ H ├┤ X ├┤ X ├┤ X ├──────╫─\n",
      "     └───┘└───┘└───┘└───┘└───┘      ║ \n",
      "c: 1/═══════════════════════════════╩═\n",
      "                                    0 \n",
      "f(0)⊕f(1) = 0\n",
      "The function is CONSTANT\n"
     ]
    }
   ],
   "source": [
    "# Main function to simulate Deutsch's algorithm\n",
    "def main():\n",
    "    \n",
    "    # Generate a random unknown function\n",
    "    f_test = [random.randint(0, 1) for _ in range(2)]\n",
    "    #f_test = [0,0]\n",
    "    #f_test = [1,0]\n",
    "    print('Unknown function, f(x) =',f_test,' for x in {0,1}.')\n",
    "    \n",
    "    \n",
    "    # Create the Deutsch algorithm circuit\n",
    "    deutsch_circuit = make_deutsch_circuit(f_test)\n",
    "    \n",
    "    # Simulate the circuit\n",
    "    nshot = 10\n",
    "    simulator = AerSimulator()\n",
    "    transpiled_circuit = transpile(deutsch_circuit, simulator)\n",
    "    result = simulator.run(transpiled_circuit, shots=nshot).result()\n",
    "    \n",
    "    # Collect counts\n",
    "    counts = result.get_counts()\n",
    "    print('Counts =',counts,'; No of shots =',nshot)\n",
    "    #result_key = max(counts, key=counts.get)\n",
    "    result_key = list(counts.keys())[0] \n",
    "    print('Result_key =',result_key)\n",
    "    # Print results\n",
    "    #print(f\"Unknown function: f(x) = [{', '.join(map(str, f_test))}]\")\n",
    "    print(\"Circuit:\")\n",
    "    print(deutsch_circuit)\n",
    "    print(f\"f(0)⊕f(1) = {result_key}\")\n",
    "    \n",
    "    if int(result_key) == 0:   \n",
    "     print('The function is CONSTANT')\n",
    "    else:\n",
    "     print('The function is BALANCED')   \n",
    "\n",
    "# Execute the main function\n",
    "main()"
   ]
  },
  {
   "cell_type": "code",
   "execution_count": null,
   "id": "1ef99225",
   "metadata": {},
   "outputs": [],
   "source": []
  }
 ],
 "metadata": {
  "kernelspec": {
   "display_name": "Python 3 (ipykernel)",
   "language": "python",
   "name": "python3"
  },
  "language_info": {
   "codemirror_mode": {
    "name": "ipython",
    "version": 3
   },
   "file_extension": ".py",
   "mimetype": "text/x-python",
   "name": "python",
   "nbconvert_exporter": "python",
   "pygments_lexer": "ipython3",
   "version": "3.11.10"
  }
 },
 "nbformat": 4,
 "nbformat_minor": 5
}
